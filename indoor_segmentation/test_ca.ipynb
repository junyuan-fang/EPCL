{
 "cells": [
  {
   "cell_type": "code",
   "execution_count": 34,
   "id": "3b75d63b-b9f3-4e12-8615-a77d37ac653d",
   "metadata": {},
   "outputs": [],
   "source": [
    "k = v = torch.zeros(1, 77, 512)\n",
    "q = torch.rand(1, 1000, 512)"
   ]
  },
  {
   "cell_type": "code",
   "execution_count": 24,
   "id": "edd148e4-78de-4325-8d04-2edaad7234fe",
   "metadata": {},
   "outputs": [],
   "source": []
  },
  {
   "cell_type": "code",
   "execution_count": 25,
   "id": "9ea0367c-8012-4086-8f34-6b7b913da79b",
   "metadata": {},
   "outputs": [
    {
     "data": {
      "text/plain": [
       "torch.Size([1, 77])"
      ]
     },
     "execution_count": 25,
     "metadata": {},
     "output_type": "execute_result"
    }
   ],
   "source": []
  },
  {
   "cell_type": "code",
   "execution_count": 36,
   "id": "20067975-dfa6-41e3-b77c-a4a78357cf72",
   "metadata": {},
   "outputs": [
    {
     "name": "stdout",
     "output_type": "stream",
     "text": [
      "torch.Size([1, 1000, 512])\n"
     ]
    }
   ],
   "source": [
    "import torch\n",
    "import torch.nn as nn\n",
    "\n",
    "\n",
    "def create_padding_mask(seq): #(batch_size, seq_len)\n",
    "    mask = (seq.sum(dim=-1) == 0)\n",
    "    return mask\n",
    "\n",
    "class CrossAttentionBlock(nn.Module):\n",
    "    def __init__(self, n_features=512, n_heads=8, n_hidden=512, dropout=0.1):\n",
    "        super(CrossAttentionBlock, self).__init__()\n",
    "        self.MHselfA = nn.MultiheadAttention(embed_dim=n_features, num_heads=n_heads, dropout=dropout, batch_first=True)\n",
    "        self.preLN1 = nn.LayerNorm(n_features)\n",
    "        \n",
    "        self.MHcrossA = nn.MultiheadAttention(embed_dim=n_features, num_heads=n_heads, dropout=dropout, batch_first=True)\n",
    "        self.preLN2 = nn.LayerNorm(n_features)\n",
    "        self.FF = nn.Sequential(\n",
    "            nn.Linear(in_features=n_features, out_features=n_hidden),\n",
    "            nn.ReLU(),\n",
    "            nn.Dropout(dropout),\n",
    "            nn.Linear(in_features=n_hidden, out_features=n_features)\n",
    "        )\n",
    "        self.postLN = nn.LayerNorm(n_features)\n",
    "        self.dropout = nn.Dropout(dropout)\n",
    "\n",
    "    def forward(self, query, kv, src_mask):\n",
    "        tgt = query\n",
    "        memory = kv\n",
    "        \n",
    "        # Self Attention\n",
    "        tgt2 = self.MHselfA(tgt, tgt, tgt, key_padding_mask=None)[0]\n",
    "        tgt = tgt + self.dropout(tgt2)\n",
    "        tgt = self.preLN1(tgt)\n",
    "\n",
    "        # Cross Attention\n",
    "        tgt2 = self.MHcrossA(tgt, memory, memory, key_padding_mask=src_mask)[0]\n",
    "        tgt = tgt + self.dropout(tgt2)\n",
    "        tgt = self.preLN2(tgt)\n",
    "        \n",
    "        # Feedforward\n",
    "        tgt2 = self.FF(tgt)\n",
    "        tgt = tgt + self.dropout(tgt2)\n",
    "        tgt = self.postLN(tgt)\n",
    "        \n",
    "        return tgt\n",
    "\n",
    "# 示例代码\n",
    "batch_size = 1\n",
    "seq_len = 77\n",
    "n_features = 512\n",
    "\n",
    "# 生成一个随机输入，包含两个 padding token\n",
    "k = v = torch.zeros(batch_size, seq_len, n_features)\n",
    "k[0, 75:, :] = 0  # 最后两个 token 是 padding\n",
    "\n",
    "# 生成 query，形状与 key 和 value 匹配\n",
    "q = torch.rand(batch_size, 1000, n_features)\n",
    "\n",
    "# 生成 padding mask\n",
    "def create_padding_mask(seq):\n",
    "    return (seq.sum(dim=-1) == 0)\n",
    "\n",
    "src_mask = create_padding_mask(k)\n",
    "\n",
    "# 创建 CrossAttentionBlock 实例\n",
    "cross_attention_block = CrossAttentionBlock(n_features=n_features)\n",
    "\n",
    "# 调用 forward 方法\n",
    "output = cross_attention_block(query=q, kv=k, src_mask=src_mask)\n",
    "\n",
    "print(output.shape)  # 应该输出: torch.Size([1, 77, 512])\n"
   ]
  }
 ],
 "metadata": {
  "kernelspec": {
   "display_name": "Python 3 (ipykernel)",
   "language": "python",
   "name": "python3"
  },
  "language_info": {
   "codemirror_mode": {
    "name": "ipython",
    "version": 3
   },
   "file_extension": ".py",
   "mimetype": "text/x-python",
   "name": "python",
   "nbconvert_exporter": "python",
   "pygments_lexer": "ipython3",
   "version": "3.9.18"
  }
 },
 "nbformat": 4,
 "nbformat_minor": 5
}
